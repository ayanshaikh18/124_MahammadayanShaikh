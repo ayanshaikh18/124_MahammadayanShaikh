{
 "cells": [
  {
   "cell_type": "markdown",
   "metadata": {},
   "source": [
    "# ML Lab 2 - Data Preprocessing\n",
    "###    - By Mahammadayan Shaikh (CE124)"
   ]
  },
  {
   "cell_type": "markdown",
   "metadata": {},
   "source": [
    "## 1. Handling Missing Values"
   ]
  },
  {
   "cell_type": "code",
   "execution_count": 1,
   "metadata": {},
   "outputs": [],
   "source": [
    "#Importing Libraries\n",
    "import numpy as np\n",
    "import pandas as pd\n",
    "from sklearn.impute import SimpleImputer"
   ]
  },
  {
   "cell_type": "code",
   "execution_count": 2,
   "metadata": {},
   "outputs": [
    {
     "name": "stdout",
     "output_type": "stream",
     "text": [
      "Data Statistics :- \n",
      "         Unnamed: 0         Price          Age     MetColor    Automatic  \\\n",
      "count  1436.000000   1436.000000  1336.000000  1286.000000  1436.000000   \n",
      "mean    717.500000  10730.824513    55.672156     0.674961     0.055710   \n",
      "std     414.681806   3626.964585    18.589804     0.468572     0.229441   \n",
      "min       0.000000   4350.000000     1.000000     0.000000     0.000000   \n",
      "25%     358.750000   8450.000000    43.000000     0.000000     0.000000   \n",
      "50%     717.500000   9900.000000    60.000000     1.000000     0.000000   \n",
      "75%    1076.250000  11950.000000    70.000000     1.000000     0.000000   \n",
      "max    1435.000000  32500.000000    80.000000     1.000000     1.000000   \n",
      "\n",
      "                CC      Weight  \n",
      "count  1436.000000  1436.00000  \n",
      "mean   1566.827994  1072.45961  \n",
      "std     187.182436    52.64112  \n",
      "min    1300.000000  1000.00000  \n",
      "25%    1400.000000  1040.00000  \n",
      "50%    1600.000000  1070.00000  \n",
      "75%    1600.000000  1085.00000  \n",
      "max    2000.000000  1615.00000  \n"
     ]
    }
   ],
   "source": [
    "# Loading Data\n",
    "dataset = pd.read_csv('Exercise-CarData.csv')\n",
    "print(\"Data Statistics :- \\n\",dataset.describe())\n"
   ]
  },
  {
   "cell_type": "markdown",
   "metadata": {},
   "source": [
    "```Count of Entries in Age & MetColor is less than total entries so they're having Missing Values.```"
   ]
  },
  {
   "cell_type": "code",
   "execution_count": 3,
   "metadata": {},
   "outputs": [
    {
     "name": "stdout",
     "output_type": "stream",
     "text": [
      "Input : \n",
      " [[0 13500 23.0 ... 0 2000 'three']\n",
      " [1 13750 23.0 ... 0 2000 '3']\n",
      " [2 13950 24.0 ... 0 2000 '3']\n",
      " ...\n",
      " [1433 8500 nan ... 0 1300 '3']\n",
      " [1434 7250 70.0 ... 0 1300 '3']\n",
      " [1435 6950 76.0 ... 0 1600 '5']]\n",
      "\n",
      "Output : \n",
      " [1165 1165 1165 ... 1015 1015 1114]\n"
     ]
    }
   ],
   "source": [
    "# Seperate Input & Output Variables\n",
    "X = dataset.iloc[:,:-1].values\n",
    "Y = dataset.iloc[:,-1].values\n",
    "print(\"Input : \\n\",X)\n",
    "print(\"\\nOutput : \\n\",Y)"
   ]
  },
  {
   "cell_type": "code",
   "execution_count": 4,
   "metadata": {},
   "outputs": [],
   "source": [
    "# Removing rows containing null values for all attributes\n",
    "dataset.dropna(how='all',inplace=True)\n",
    "# print(\"New Data Statistics:\\n\\n\",dataset.describe())"
   ]
  },
  {
   "cell_type": "code",
   "execution_count": 5,
   "metadata": {},
   "outputs": [
    {
     "name": "stdout",
     "output_type": "stream",
     "text": [
      "\n",
      "\n",
      "New Input with Mean Value for NaN : \n",
      "\n",
      " [[0 13500.0 23.0 ... 0 2000 'three']\n",
      " [1 13750.0 23.0 ... 0 2000 '3']\n",
      " [2 13950.0 24.0 ... 0 2000 '3']\n",
      " ...\n",
      " [1433 8500.0 55.67215568862275 ... 0 1300 '3']\n",
      " [1434 7250.0 70.0 ... 0 1300 '3']\n",
      " [1435 6950.0 76.0 ... 0 1600 '5']]\n"
     ]
    }
   ],
   "source": [
    "# Applying Imputation to replace null values with mean value\n",
    "\n",
    "\n",
    "# All rows, all columns except last \n",
    "new_X = dataset.iloc[:, :-1].values \n",
    "  \n",
    "# Only last column  \n",
    "new_Y = dataset.iloc[:, -1].values \n",
    "\n",
    "\n",
    "# Using Imputer function to replace NaN values with mean of that parameter value \n",
    "imputer = SimpleImputer(missing_values = np.nan,strategy = \"mean\")\n",
    "\n",
    "# Fitting the data, function learns the stats \n",
    "imputer = imputer.fit(new_X[:, 1:3]) \n",
    "  \n",
    "# fit_transform() will execute those stats on the input ie. X[:, 1:3] \n",
    "new_X[:, 1:3] = imputer.transform(new_X[:, 1:3]) \n",
    "  \n",
    "# filling the missing value with mean \n",
    "print(\"\\n\\nNew Input with Mean Value for NaN : \\n\\n\", new_X)"
   ]
  },
  {
   "cell_type": "markdown",
   "metadata": {},
   "source": [
    "## 2. Data Transformation"
   ]
  },
  {
   "cell_type": "code",
   "execution_count": 6,
   "metadata": {},
   "outputs": [],
   "source": [
    "# Import Libraries for transformation\n",
    "from sklearn.preprocessing import MinMaxScaler, StandardScaler"
   ]
  },
  {
   "cell_type": "code",
   "execution_count": 8,
   "metadata": {},
   "outputs": [
    {
     "name": "stdout",
     "output_type": "stream",
     "text": [
      "\n",
      "\n",
      "X for transformation : \n",
      " [[13500.    23.]\n",
      " [13750.    23.]\n",
      " [13950.    24.]\n",
      " ...\n",
      " [ 8500.    nan]\n",
      " [ 7250.    70.]\n",
      " [ 6950.    76.]]\n"
     ]
    }
   ],
   "source": [
    "X_new = dataset.iloc[:,1:3].values\n",
    "print(\"\\n\\nX for transformation : \\n\", X_new)"
   ]
  }
 ],
 "metadata": {
  "interpreter": {
   "hash": "aae049c1cec7b5c1d2df2f3eea2aa359f4563b6b160aa7cc264d39571742d1c5"
  },
  "kernelspec": {
   "display_name": "Python 3 (ipykernel)",
   "language": "python",
   "name": "python3"
  },
  "language_info": {
   "codemirror_mode": {
    "name": "ipython",
    "version": 3
   },
   "file_extension": ".py",
   "mimetype": "text/x-python",
   "name": "python",
   "nbconvert_exporter": "python",
   "pygments_lexer": "ipython3",
   "version": "3.8.8"
  }
 },
 "nbformat": 4,
 "nbformat_minor": 4
}
