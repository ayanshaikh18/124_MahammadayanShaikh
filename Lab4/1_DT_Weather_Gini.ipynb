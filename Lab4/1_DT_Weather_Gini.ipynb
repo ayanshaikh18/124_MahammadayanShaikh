{
  "nbformat": 4,
  "nbformat_minor": 0,
  "metadata": {
    "colab": {
      "name": "1_DT_Weather_Gini.ipynb",
      "provenance": []
    },
    "kernelspec": {
      "display_name": "Python 3",
      "language": "python",
      "name": "python3"
    },
    "language_info": {
      "codemirror_mode": {
        "name": "ipython",
        "version": 3
      },
      "file_extension": ".py",
      "mimetype": "text/x-python",
      "name": "python",
      "nbconvert_exporter": "python",
      "pygments_lexer": "ipython3",
      "version": "3.8.10"
    }
  },
  "cells": [
    {
      "cell_type": "markdown",
      "metadata": {
        "id": "De7AICwsdTMR"
      },
      "source": [
        "**Aim: Implement Decsion Tree classifier**\n",
        "\n",
        "\n",
        "- Implement Decision Tree classifier using scikit learn library\n",
        "- Test the classifier for Weather dataset"
      ]
    },
    {
      "cell_type": "markdown",
      "metadata": {
        "id": "alhwH449dTMd"
      },
      "source": [
        "    Step 1: Import necessary libraries."
      ]
    },
    {
      "cell_type": "code",
      "metadata": {
        "id": "1CNH0GcydTMk"
      },
      "source": [
        "from sklearn import preprocessing\n",
        "from sklearn import datasets\n",
        "from sklearn.tree import DecisionTreeClassifier\n",
        "import pandas as pd\n",
        "import numpy as np"
      ],
      "execution_count": 1,
      "outputs": []
    },
    {
      "cell_type": "markdown",
      "metadata": {
        "id": "jw3TNFuOdTNH"
      },
      "source": [
        "    Step 2: Prepare dataset."
      ]
    },
    {
      "cell_type": "code",
      "metadata": {
        "id": "8FYtofzfdTNM",
        "colab": {
          "base_uri": "https://localhost:8080/",
          "height": 483
        },
        "outputId": "e230a7f2-ff7d-4422-94eb-66bf1ca7a98d"
      },
      "source": [
        "#Predictor variables\n",
        "Outlook = ['Rainy', 'Rainy', 'Overcast', 'Sunny', 'Sunny', 'Sunny', 'Overcast',\n",
        "            'Rainy', 'Rainy', 'Sunny', 'Rainy','Overcast', 'Overcast', 'Sunny']\n",
        "Temperature = ['Hot', 'Hot', 'Hot', 'Mild', 'Cool', 'Cool', 'Cool',\n",
        "                'Mild', 'Cool', 'Mild', 'Mild', 'Mild', 'Hot', 'Mild']\n",
        "Humidity = ['High', 'High', 'High', 'High', 'Normal', 'Normal', 'Normal',\n",
        "            'High', 'Normal', 'Normal', 'Normal', 'High', 'Normal', 'High']\n",
        "Wind = ['False', 'True', 'False', 'False', 'False', 'True', 'True',\n",
        "            'False', 'False', 'False', 'True', 'True', 'False', 'True']\n",
        "\n",
        "#Class Label:\n",
        "Play = ['No', 'No', 'Yes', 'Yes', 'Yes', 'No', 'Yes', 'No',\n",
        "'Yes', 'Yes', 'Yes', 'Yes', 'Yes', 'No']\n",
        "\n",
        "data = {\n",
        "    'Outlook':Outlook,\n",
        "    'Temperature':Temperature,\n",
        "    'Humidity':Humidity,\n",
        "    'Wind':Wind,\n",
        "    'Play':Play\n",
        "}\n",
        "dataset = pd.DataFrame(data)\n",
        "dataset"
      ],
      "execution_count": 2,
      "outputs": [
        {
          "output_type": "execute_result",
          "data": {
            "text/html": [
              "<div>\n",
              "<style scoped>\n",
              "    .dataframe tbody tr th:only-of-type {\n",
              "        vertical-align: middle;\n",
              "    }\n",
              "\n",
              "    .dataframe tbody tr th {\n",
              "        vertical-align: top;\n",
              "    }\n",
              "\n",
              "    .dataframe thead th {\n",
              "        text-align: right;\n",
              "    }\n",
              "</style>\n",
              "<table border=\"1\" class=\"dataframe\">\n",
              "  <thead>\n",
              "    <tr style=\"text-align: right;\">\n",
              "      <th></th>\n",
              "      <th>Outlook</th>\n",
              "      <th>Temperature</th>\n",
              "      <th>Humidity</th>\n",
              "      <th>Wind</th>\n",
              "      <th>Play</th>\n",
              "    </tr>\n",
              "  </thead>\n",
              "  <tbody>\n",
              "    <tr>\n",
              "      <th>0</th>\n",
              "      <td>Rainy</td>\n",
              "      <td>Hot</td>\n",
              "      <td>High</td>\n",
              "      <td>False</td>\n",
              "      <td>No</td>\n",
              "    </tr>\n",
              "    <tr>\n",
              "      <th>1</th>\n",
              "      <td>Rainy</td>\n",
              "      <td>Hot</td>\n",
              "      <td>High</td>\n",
              "      <td>True</td>\n",
              "      <td>No</td>\n",
              "    </tr>\n",
              "    <tr>\n",
              "      <th>2</th>\n",
              "      <td>Overcast</td>\n",
              "      <td>Hot</td>\n",
              "      <td>High</td>\n",
              "      <td>False</td>\n",
              "      <td>Yes</td>\n",
              "    </tr>\n",
              "    <tr>\n",
              "      <th>3</th>\n",
              "      <td>Sunny</td>\n",
              "      <td>Mild</td>\n",
              "      <td>High</td>\n",
              "      <td>False</td>\n",
              "      <td>Yes</td>\n",
              "    </tr>\n",
              "    <tr>\n",
              "      <th>4</th>\n",
              "      <td>Sunny</td>\n",
              "      <td>Cool</td>\n",
              "      <td>Normal</td>\n",
              "      <td>False</td>\n",
              "      <td>Yes</td>\n",
              "    </tr>\n",
              "    <tr>\n",
              "      <th>5</th>\n",
              "      <td>Sunny</td>\n",
              "      <td>Cool</td>\n",
              "      <td>Normal</td>\n",
              "      <td>True</td>\n",
              "      <td>No</td>\n",
              "    </tr>\n",
              "    <tr>\n",
              "      <th>6</th>\n",
              "      <td>Overcast</td>\n",
              "      <td>Cool</td>\n",
              "      <td>Normal</td>\n",
              "      <td>True</td>\n",
              "      <td>Yes</td>\n",
              "    </tr>\n",
              "    <tr>\n",
              "      <th>7</th>\n",
              "      <td>Rainy</td>\n",
              "      <td>Mild</td>\n",
              "      <td>High</td>\n",
              "      <td>False</td>\n",
              "      <td>No</td>\n",
              "    </tr>\n",
              "    <tr>\n",
              "      <th>8</th>\n",
              "      <td>Rainy</td>\n",
              "      <td>Cool</td>\n",
              "      <td>Normal</td>\n",
              "      <td>False</td>\n",
              "      <td>Yes</td>\n",
              "    </tr>\n",
              "    <tr>\n",
              "      <th>9</th>\n",
              "      <td>Sunny</td>\n",
              "      <td>Mild</td>\n",
              "      <td>Normal</td>\n",
              "      <td>False</td>\n",
              "      <td>Yes</td>\n",
              "    </tr>\n",
              "    <tr>\n",
              "      <th>10</th>\n",
              "      <td>Rainy</td>\n",
              "      <td>Mild</td>\n",
              "      <td>Normal</td>\n",
              "      <td>True</td>\n",
              "      <td>Yes</td>\n",
              "    </tr>\n",
              "    <tr>\n",
              "      <th>11</th>\n",
              "      <td>Overcast</td>\n",
              "      <td>Mild</td>\n",
              "      <td>High</td>\n",
              "      <td>True</td>\n",
              "      <td>Yes</td>\n",
              "    </tr>\n",
              "    <tr>\n",
              "      <th>12</th>\n",
              "      <td>Overcast</td>\n",
              "      <td>Hot</td>\n",
              "      <td>Normal</td>\n",
              "      <td>False</td>\n",
              "      <td>Yes</td>\n",
              "    </tr>\n",
              "    <tr>\n",
              "      <th>13</th>\n",
              "      <td>Sunny</td>\n",
              "      <td>Mild</td>\n",
              "      <td>High</td>\n",
              "      <td>True</td>\n",
              "      <td>No</td>\n",
              "    </tr>\n",
              "  </tbody>\n",
              "</table>\n",
              "</div>"
            ],
            "text/plain": [
              "     Outlook Temperature Humidity   Wind Play\n",
              "0      Rainy         Hot     High  False   No\n",
              "1      Rainy         Hot     High   True   No\n",
              "2   Overcast         Hot     High  False  Yes\n",
              "3      Sunny        Mild     High  False  Yes\n",
              "4      Sunny        Cool   Normal  False  Yes\n",
              "5      Sunny        Cool   Normal   True   No\n",
              "6   Overcast        Cool   Normal   True  Yes\n",
              "7      Rainy        Mild     High  False   No\n",
              "8      Rainy        Cool   Normal  False  Yes\n",
              "9      Sunny        Mild   Normal  False  Yes\n",
              "10     Rainy        Mild   Normal   True  Yes\n",
              "11  Overcast        Mild     High   True  Yes\n",
              "12  Overcast         Hot   Normal  False  Yes\n",
              "13     Sunny        Mild     High   True   No"
            ]
          },
          "metadata": {},
          "execution_count": 2
        }
      ]
    },
    {
      "cell_type": "markdown",
      "metadata": {
        "id": "8FncMW4IdTNk"
      },
      "source": [
        "    Step 3: Digitize the data set using encoding"
      ]
    },
    {
      "cell_type": "code",
      "metadata": {
        "id": "Awu5kIQxdTNo"
      },
      "source": [
        "# Applying one hot encoding.\n",
        "from sklearn.preprocessing import OneHotEncoder,LabelEncoder\n",
        "\n",
        "encoder=OneHotEncoder(sparse=False)\n",
        "le = LabelEncoder()\n",
        "\n",
        "Outlook_encoded = pd.DataFrame (encoder.fit_transform(dataset[['Outlook']]))\n",
        "Outlook_encoded.columns = encoder.get_feature_names(['Outlook'])\n",
        "\n",
        "Temperature_encoded = pd.DataFrame (encoder.fit_transform(dataset[['Temperature']]))\n",
        "Temperature_encoded.columns = encoder.get_feature_names(['Temperature'])\n",
        "\n",
        "Humidity_encoded = pd.DataFrame (encoder.fit_transform(dataset[['Humidity']]))\n",
        "Humidity_encoded.columns = encoder.get_feature_names(['Humidity'])\n",
        "\n",
        "Wind_encoded = pd.DataFrame (encoder.fit_transform(dataset[['Wind']]))\n",
        "Wind_encoded.columns = encoder.get_feature_names(['Wind'])\n",
        "\n",
        "Play_encoded = pd.DataFrame (le.fit_transform(Play))\n",
        "dataset['Play'] = Play_encoded\n",
        "# print(\"Weather:\" ,Outlook_encoded)\n",
        "# print(\"Temerature:\" ,Temperature_encoded)\n",
        "# print(\"Humidity:\" ,Humidity_encoded)\n",
        "# print(\"Wind:\" ,Wind_encoded)\n",
        "# print(\"Play:\" ,Play_encoded)"
      ],
      "execution_count": 3,
      "outputs": []
    },
    {
      "cell_type": "markdown",
      "metadata": {
        "id": "ftSYL4UFdTN8"
      },
      "source": [
        "    Step 4: Merge different features to prepare dataset"
      ]
    },
    {
      "cell_type": "code",
      "metadata": {
        "id": "RUCHRYb3dTOC",
        "colab": {
          "base_uri": "https://localhost:8080/"
        },
        "outputId": "a825f2f6-b3d1-4f78-ca4f-8a999144a06e"
      },
      "source": [
        "dataset = pd.concat([Outlook_encoded,Temperature_encoded,Humidity_encoded,Wind_encoded,dataset['Play']], axis=1)\n",
        "print(dataset.describe())\n",
        "\n",
        "from sklearn.model_selection import train_test_split\n",
        "X=dataset.values[:,:-1]\n",
        "Y=dataset.values[:,-1]\n",
        "X_train, X_test, y_train, y_test = train_test_split( \n",
        "    X, Y, test_size = 0.15, random_state = 124)\n",
        "# print(\"\\n\",X)\n",
        "# print(\"\\n\",Y)"
      ],
      "execution_count": 4,
      "outputs": [
        {
          "output_type": "stream",
          "name": "stdout",
          "text": [
            "       Outlook_Overcast  Outlook_Rainy  ...  Wind_True       Play\n",
            "count         14.000000      14.000000  ...  14.000000  14.000000\n",
            "mean           0.285714       0.357143  ...   0.428571   0.642857\n",
            "std            0.468807       0.497245  ...   0.513553   0.497245\n",
            "min            0.000000       0.000000  ...   0.000000   0.000000\n",
            "25%            0.000000       0.000000  ...   0.000000   0.000000\n",
            "50%            0.000000       0.000000  ...   0.000000   1.000000\n",
            "75%            0.750000       1.000000  ...   1.000000   1.000000\n",
            "max            1.000000       1.000000  ...   1.000000   1.000000\n",
            "\n",
            "[8 rows x 11 columns]\n"
          ]
        }
      ]
    },
    {
      "cell_type": "markdown",
      "metadata": {
        "id": "NMgpif_GdTOW"
      },
      "source": [
        "    Step 5: Train ’Create and Train DecisionTreeClassifier’"
      ]
    },
    {
      "cell_type": "code",
      "metadata": {
        "colab": {
          "base_uri": "https://localhost:8080/"
        },
        "id": "jDnsCMnGdTOa",
        "outputId": "65ba113a-d1a5-40c7-c573-a34c4af9509e"
      },
      "source": [
        "#Create a Decision Tree Classifier (using Gini Index)\n",
        "dtc = DecisionTreeClassifier(criterion = \"gini\",max_leaf_nodes=124,random_state=124)\n",
        "\n",
        "# Train the model using the training sets\n",
        "dtc.fit(X_train, y_train)   #(features, Class_label)"
      ],
      "execution_count": 5,
      "outputs": [
        {
          "output_type": "execute_result",
          "data": {
            "text/plain": [
              "DecisionTreeClassifier(ccp_alpha=0.0, class_weight=None, criterion='gini',\n",
              "                       max_depth=None, max_features=None, max_leaf_nodes=124,\n",
              "                       min_impurity_decrease=0.0, min_impurity_split=None,\n",
              "                       min_samples_leaf=1, min_samples_split=2,\n",
              "                       min_weight_fraction_leaf=0.0, presort='deprecated',\n",
              "                       random_state=124, splitter='best')"
            ]
          },
          "metadata": {},
          "execution_count": 5
        }
      ]
    },
    {
      "cell_type": "markdown",
      "metadata": {
        "id": "ZmgZ1-obdTOw"
      },
      "source": [
        "    Step 6: Predict Output for new data"
      ]
    },
    {
      "cell_type": "code",
      "metadata": {
        "colab": {
          "base_uri": "https://localhost:8080/"
        },
        "id": "lD0pzkWtdTOy",
        "outputId": "675b4bd4-e370-4de6-fe3a-0703503e5bd6"
      },
      "source": [
        "#Predict Output\n",
        "y_pred = dtc.predict(X_test)\n",
        "print(\"Predicted values:\")\n",
        "print(y_pred)"
      ],
      "execution_count": 6,
      "outputs": [
        {
          "output_type": "stream",
          "name": "stdout",
          "text": [
            "Predicted values:\n",
            "[0. 0. 0.]\n"
          ]
        }
      ]
    },
    {
      "cell_type": "code",
      "metadata": {
        "colab": {
          "base_uri": "https://localhost:8080/"
        },
        "id": "cFT6RHETD2R8",
        "outputId": "bebe0b6b-4874-4179-98cf-47c3f9f2615c"
      },
      "source": [
        "# Model Accuracy\n",
        "from sklearn import metrics\n",
        "print(\"Confusion Matrix: \",\n",
        "        metrics.confusion_matrix(y_test, y_pred))\n",
        "print (\"Accuracy : \",\n",
        "    metrics.accuracy_score(y_test,y_pred)*100)\n",
        "print(\"Report : \",\n",
        "    metrics.classification_report(y_test, y_pred))"
      ],
      "execution_count": 7,
      "outputs": [
        {
          "output_type": "stream",
          "name": "stdout",
          "text": [
            "Confusion Matrix:  [[1 0]\n",
            " [2 0]]\n",
            "Accuracy :  33.33333333333333\n",
            "Report :                precision    recall  f1-score   support\n",
            "\n",
            "         0.0       0.33      1.00      0.50         1\n",
            "         1.0       0.00      0.00      0.00         2\n",
            "\n",
            "    accuracy                           0.33         3\n",
            "   macro avg       0.17      0.50      0.25         3\n",
            "weighted avg       0.11      0.33      0.17         3\n",
            "\n"
          ]
        },
        {
          "output_type": "stream",
          "name": "stderr",
          "text": [
            "/usr/local/lib/python3.7/dist-packages/sklearn/metrics/_classification.py:1272: UndefinedMetricWarning: Precision and F-score are ill-defined and being set to 0.0 in labels with no predicted samples. Use `zero_division` parameter to control this behavior.\n",
            "  _warn_prf(average, modifier, msg_start, len(result))\n"
          ]
        }
      ]
    },
    {
      "cell_type": "code",
      "metadata": {
        "colab": {
          "base_uri": "https://localhost:8080/"
        },
        "id": "NBa2dCbFWLxe",
        "outputId": "0a47005b-1da4-482d-f058-b9b0fe655f7d"
      },
      "source": [
        "print(dataset.columns)"
      ],
      "execution_count": 8,
      "outputs": [
        {
          "output_type": "stream",
          "name": "stdout",
          "text": [
            "Index(['Outlook_Overcast', 'Outlook_Rainy', 'Outlook_Sunny',\n",
            "       'Temperature_Cool', 'Temperature_Hot', 'Temperature_Mild',\n",
            "       'Humidity_High', 'Humidity_Normal', 'Wind_False', 'Wind_True', 'Play'],\n",
            "      dtype='object')\n"
          ]
        }
      ]
    },
    {
      "cell_type": "markdown",
      "metadata": {
        "id": "TaZWazdzVwc_"
      },
      "source": [
        "## Exercise Questions"
      ]
    },
    {
      "cell_type": "markdown",
      "metadata": {
        "id": "MASWUtypV-AS"
      },
      "source": [
        "1. What will be the value of Play, if Outlook is ’Rainy’, Temperature is ’Mild’, Humidity =’Normal’, and Wind = ’False’?"
      ]
    },
    {
      "cell_type": "code",
      "metadata": {
        "colab": {
          "base_uri": "https://localhost:8080/"
        },
        "id": "oOOjFbYJWBDV",
        "outputId": "3f863323-3373-4597-ac6c-7988b3bd85f8"
      },
      "source": [
        "print(dtc.predict([[0,1,0,0,0,1,0,1,1,0]]))"
      ],
      "execution_count": 9,
      "outputs": [
        {
          "output_type": "stream",
          "name": "stdout",
          "text": [
            "[0.]\n"
          ]
        }
      ]
    },
    {
      "cell_type": "markdown",
      "metadata": {
        "id": "TWAdmOisWvfL"
      },
      "source": [
        "2.  What will be the value of Play, if Outlook is ’Sunny’, Temeprature is ’Cool’, Humidity =’High’, and Wind = ’True’?"
      ]
    },
    {
      "cell_type": "code",
      "metadata": {
        "colab": {
          "base_uri": "https://localhost:8080/"
        },
        "id": "dTzVarKyWx0c",
        "outputId": "61aa5089-301c-4763-cbe1-e38f72bf3d80"
      },
      "source": [
        "print(dtc.predict([[0,0,1,1,0,0,0,1,0,1]]))"
      ],
      "execution_count": 10,
      "outputs": [
        {
          "output_type": "stream",
          "name": "stdout",
          "text": [
            "[0.]\n"
          ]
        }
      ]
    }
  ]
}