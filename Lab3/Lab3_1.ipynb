{
  "nbformat": 4,
  "nbformat_minor": 0,
  "metadata": {
    "colab": {
      "name": "Lab3_1.ipynb",
      "provenance": []
    },
    "kernelspec": {
      "name": "python3",
      "display_name": "Python 3"
    },
    "language_info": {
      "name": "python"
    }
  },
  "cells": [
    {
      "cell_type": "code",
      "metadata": {
        "colab": {
          "base_uri": "https://localhost:8080/"
        },
        "id": "yxrC9MveIwPM",
        "outputId": "a27ac4a1-2062-41a7-d8b3-8372bd69faeb"
      },
      "source": [
        "from google.colab import drive\n",
        "drive.mount(\"/content/drive\")"
      ],
      "execution_count": 1,
      "outputs": [
        {
          "output_type": "stream",
          "text": [
            "Mounted at /content/drive\n"
          ],
          "name": "stdout"
        }
      ]
    },
    {
      "cell_type": "code",
      "metadata": {
        "id": "-w5qBqpZJfcc"
      },
      "source": [
        "# Importing Libraries\n",
        "import numpy as np\n",
        "import pandas as pd\n",
        "import matplotlib.pyplot as plt\n",
        "from sklearn import datasets, preprocessing\n",
        "from sklearn.naive_bayes import GaussianNB, MultinomialNB"
      ],
      "execution_count": 2,
      "outputs": []
    },
    {
      "cell_type": "code",
      "metadata": {
        "id": "XIZEnKLWJL8M"
      },
      "source": [
        "# Loading dataset\n",
        "dataset = pd.read_csv(\"/content/drive/MyDrive/My_Sem_7/ML_Lab/Lab3/Dataset1.csv\")"
      ],
      "execution_count": 38,
      "outputs": []
    },
    {
      "cell_type": "markdown",
      "metadata": {
        "id": "VOSMDH_RQc4a"
      },
      "source": [
        "## Preprocessing"
      ]
    },
    {
      "cell_type": "code",
      "metadata": {
        "colab": {
          "base_uri": "https://localhost:8080/"
        },
        "id": "K0tVUyNhJ4XY",
        "outputId": "48897ed1-6ade-4983-f13c-f401f905ade5"
      },
      "source": [
        "le = preprocessing.LabelEncoder()\n",
        "\n",
        "# Generate dummies for column Outlook\n",
        "dummy_outlook = pd.get_dummies(dataset['Outlook'])\n",
        "dataset = dataset.drop(['Outlook'],axis=1)\n",
        "dataset = pd.concat([dummy_outlook,dataset],axis=1)\n",
        "# print(dummy_outlook)\n",
        "\n",
        "# Generate dummies for column Outlook\n",
        "dummy_wind = pd.get_dummies(dataset['Wind'])\n",
        "dataset = dataset.drop(['Wind'],axis=1)\n",
        "dataset = pd.concat([dummy_wind,dataset],axis=1)\n",
        "\n",
        "# Use label encoder for columns Temp,Humidity and label Play\n",
        "dataset['Temp'] = le.fit_transform(dataset['Temp'])\n",
        "dataset['Humidity'] = le.fit_transform(dataset['Humidity'])\n",
        "dataset['Play'] = le.fit_transform(dataset['Play'])\n",
        "\n",
        "\n",
        "print(dataset)"
      ],
      "execution_count": 39,
      "outputs": [
        {
          "output_type": "stream",
          "text": [
            "    F  T  O  R  S  Temp  Humidity  Play\n",
            "0   1  0  0  1  0     1         2     0\n",
            "1   0  1  0  1  0     1         0     0\n",
            "2   1  0  1  0  0     1         2     1\n",
            "3   1  0  0  0  1     2         2     1\n",
            "4   1  0  0  0  1     0         2     1\n",
            "5   0  1  0  0  1     0         1     0\n",
            "6   0  1  1  0  0     0         2     1\n",
            "7   1  0  0  1  0     2         2     0\n",
            "8   1  0  0  1  0     0         1     1\n",
            "9   1  0  0  0  1     2         0     1\n",
            "10  0  1  0  1  0     2         0     1\n",
            "11  0  1  1  0  0     2         1     1\n",
            "12  1  0  1  0  0     1         2     1\n",
            "13  0  1  0  0  1     2         2     0\n"
          ],
          "name": "stdout"
        }
      ]
    },
    {
      "cell_type": "code",
      "metadata": {
        "colab": {
          "base_uri": "https://localhost:8080/"
        },
        "id": "YrbZZozGQs8D",
        "outputId": "6304bd05-6d66-44ff-d04b-fe8c4b40dd96"
      },
      "source": [
        "X = dataset.iloc[:,:7].values\n",
        "Y = dataset.iloc[:,7].values\n",
        "print(X)\n",
        "print(Y)"
      ],
      "execution_count": 40,
      "outputs": [
        {
          "output_type": "stream",
          "text": [
            "[[1 0 0 1 0 1 2]\n",
            " [0 1 0 1 0 1 0]\n",
            " [1 0 1 0 0 1 2]\n",
            " [1 0 0 0 1 2 2]\n",
            " [1 0 0 0 1 0 2]\n",
            " [0 1 0 0 1 0 1]\n",
            " [0 1 1 0 0 0 2]\n",
            " [1 0 0 1 0 2 2]\n",
            " [1 0 0 1 0 0 1]\n",
            " [1 0 0 0 1 2 0]\n",
            " [0 1 0 1 0 2 0]\n",
            " [0 1 1 0 0 2 1]\n",
            " [1 0 1 0 0 1 2]\n",
            " [0 1 0 0 1 2 2]]\n",
            "[0 0 1 1 1 0 1 0 1 1 1 1 1 0]\n"
          ],
          "name": "stdout"
        }
      ]
    },
    {
      "cell_type": "code",
      "metadata": {
        "id": "KhxMQmlJQxcz"
      },
      "source": [
        "from sklearn.model_selection import train_test_split\n",
        "\n",
        "# Splitting dataset\n",
        "X_train, X_test, Y_train, Y_test = train_test_split(X, Y, test_size = 0.30, random_state = 56)"
      ],
      "execution_count": 43,
      "outputs": []
    },
    {
      "cell_type": "markdown",
      "metadata": {
        "id": "qePS-le7SssN"
      },
      "source": [
        "## Train model using Naive Bayes classifier"
      ]
    },
    {
      "cell_type": "code",
      "metadata": {
        "colab": {
          "base_uri": "https://localhost:8080/"
        },
        "id": "eIq5qGh8RjnL",
        "outputId": "c5729830-7561-4c4d-81c2-48f7e044bcf5"
      },
      "source": [
        "model=MultinomialNB()\n",
        "\n",
        "# Train the model using the training sets\n",
        "model.fit(X_train,Y_train)\n",
        "\n",
        "# predict test data\n",
        "Y_pred = model.predict(X_test)\n",
        "\n",
        "print(Y_test)\n",
        "print(Y_pred)"
      ],
      "execution_count": 44,
      "outputs": [
        {
          "output_type": "stream",
          "text": [
            "[1 1 0 1 1]\n",
            "[0 1 0 1 0]\n"
          ],
          "name": "stdout"
        }
      ]
    },
    {
      "cell_type": "code",
      "metadata": {
        "colab": {
          "base_uri": "https://localhost:8080/"
        },
        "id": "L1zuuax7SOSi",
        "outputId": "f8198e6a-fe0a-4d8d-e560-88cdc975f597"
      },
      "source": [
        "from sklearn import metrics\n",
        "\n",
        "print(f\"Accuracy is :- {metrics.accuracy_score(Y_test, Y_pred)}\")\n",
        "\n",
        "# print precision and recall\n",
        "from sklearn.metrics import precision_score\n",
        "from sklearn.metrics import recall_score\n",
        "\n",
        "precision = precision_score(Y_test, Y_pred)\n",
        "recall = recall_score(Y_test, Y_pred)\n",
        "\n",
        "print(f\"precision :- {precision}\")\n",
        "print(f\"recall :- {recall}\")"
      ],
      "execution_count": 45,
      "outputs": [
        {
          "output_type": "stream",
          "text": [
            "Accuracy is :- 0.6\n",
            "precision :- 1.0\n",
            "recall :- 0.5\n"
          ],
          "name": "stdout"
        }
      ]
    }
  ]
}