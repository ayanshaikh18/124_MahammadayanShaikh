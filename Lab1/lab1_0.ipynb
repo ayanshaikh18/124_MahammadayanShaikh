{
 "cells": [
  {
   "cell_type": "code",
   "execution_count": 1,
   "id": "7ac4027b-4032-41f2-8c3c-62381ee6d789",
   "metadata": {},
   "outputs": [],
   "source": [
    "import numpy as np \n",
    "import pandas as pd \n",
    "import matplotlib.pyplot as plt"
   ]
  },
  {
   "cell_type": "code",
   "execution_count": 2,
   "id": "4ea353f8-c8fb-4f3b-887f-ccc983526e7d",
   "metadata": {},
   "outputs": [
    {
     "ename": "ModuleNotFoundError",
     "evalue": "No module named 'google.colab'",
     "output_type": "error",
     "traceback": [
      "\u001b[1;31m---------------------------------------------------------------------------\u001b[0m",
      "\u001b[1;31mModuleNotFoundError\u001b[0m                       Traceback (most recent call last)",
      "\u001b[1;32m~\\AppData\\Local\\Temp/ipykernel_652/1804686325.py\u001b[0m in \u001b[0;36m<module>\u001b[1;34m\u001b[0m\n\u001b[1;32m----> 1\u001b[1;33m \u001b[1;32mfrom\u001b[0m \u001b[0mgoogle\u001b[0m\u001b[1;33m.\u001b[0m\u001b[0mcolab\u001b[0m \u001b[1;32mimport\u001b[0m \u001b[0mdrive\u001b[0m\u001b[1;33m\u001b[0m\u001b[1;33m\u001b[0m\u001b[0m\n\u001b[0m\u001b[0;32m      2\u001b[0m \u001b[0mdrive\u001b[0m\u001b[1;33m.\u001b[0m\u001b[0mmount\u001b[0m\u001b[1;33m(\u001b[0m\u001b[1;34m'/content/drive'\u001b[0m\u001b[1;33m)\u001b[0m\u001b[1;33m\u001b[0m\u001b[1;33m\u001b[0m\u001b[0m\n",
      "\u001b[1;31mModuleNotFoundError\u001b[0m: No module named 'google.colab'"
     ]
    }
   ],
   "source": [
    "from google.colab import drive \n",
    "drive.mount('/content/drive')"
   ]
  },
  {
   "cell_type": "code",
   "execution_count": null,
   "id": "fda65684-3d76-4cc1-8d0f-985eb6cdba6d",
   "metadata": {},
   "outputs": [],
   "source": [
    "data=pd.read_csv('/content/drive/My Drive/Colab Notebooks/ML-Lab/L1/mtcars.csv') \n",
    "d=pd.crosstab(index=data['cyl'],columns=\"count\",dropna=True) \n",
    "print(d)"
   ]
  },
  {
   "cell_type": "code",
   "execution_count": null,
   "id": "6ec75d7b-2920-4d03-bb00-bb0400da2707",
   "metadata": {},
   "outputs": [],
   "source": [
    "print(data.info())"
   ]
  },
  {
   "cell_type": "code",
   "execution_count": null,
   "id": "d2d16ea6-f3e3-4f34-838e-fc358cc49c63",
   "metadata": {},
   "outputs": [],
   "source": [
    "#Count Total Null values in each column \n",
    "print(\"Total Null Data:\",data.isnull().sum()) "
   ]
  },
  {
   "cell_type": "code",
   "execution_count": null,
   "id": "6ccc6b77-a707-46d8-9922-34434cf6bbf0",
   "metadata": {},
   "outputs": [],
   "source": [
    "Finding the Histogram \n",
    "# From the given dataset ‘mtcars.csv’, plot a histogram to check the frequency distributi on of the variable ‘mpg’ (Miles per gallon). \n",
    "plt.hist(data['mpg'],bins=5) \n",
    "plt.show() "
   ]
  },
  {
   "cell_type": "code",
   "execution_count": null,
   "id": "bf9ac619-5553-4327-9c19-4918d9f2f3cb",
   "metadata": {},
   "outputs": [],
   "source": [
    "#scatter plot of ‘mpg’ (Miles per gallon) vs ‘wt’ (Weight of car) \n",
    "plt.scatter(data['mpg'],data['wt']) \n",
    "plt.show() "
   ]
  },
  {
   "cell_type": "code",
   "execution_count": null,
   "id": "d55f58f9-cc61-4066-a111-ff594bdf1f22",
   "metadata": {},
   "outputs": [],
   "source": [
    "#In the dataframe, under the variable gear count total records in each value df=pd.DataFrame(data,columns=['gear']) \n",
    "print(\"Count How many values:\\n\",df['gear'].value_counts()) "
   ]
  }
 ],
 "metadata": {
  "kernelspec": {
   "display_name": "Python 3 (ipykernel)",
   "language": "python",
   "name": "python3"
  },
  "language_info": {
   "codemirror_mode": {
    "name": "ipython",
    "version": 3
   },
   "file_extension": ".py",
   "mimetype": "text/x-python",
   "name": "python",
   "nbconvert_exporter": "python",
   "pygments_lexer": "ipython3",
   "version": "3.8.8"
  }
 },
 "nbformat": 4,
 "nbformat_minor": 5
}
